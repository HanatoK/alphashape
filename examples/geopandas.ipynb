{
 "cells": [
  {
   "cell_type": "markdown",
   "metadata": {},
   "source": [
    "# Alpha Shapes with GeoPandas"
   ]
  },
  {
   "cell_type": "markdown",
   "metadata": {},
   "source": [
    "## Sample Data\n",
    "\n",
    "The data used in this notebook can be obtained from the Alaska Department of Transportation and Public Facilities website at the link below.  It consists of a point collection for each of the public airports in Alaska.\n",
    "\n",
    "[http://www.dot.alaska.gov/stwdplng/mapping/shapefiles.shtml](http://www.dot.alaska.gov/stwdplng/mapping/shapefiles.shtml)"
   ]
  },
  {
   "cell_type": "markdown",
   "metadata": {},
   "source": [
    "## Load the Shapefile"
   ]
  },
  {
   "cell_type": "code",
   "execution_count": 1,
   "metadata": {},
   "outputs": [
    {
     "data": {
      "text/html": [
       "<div>\n",
       "<style scoped>\n",
       "    .dataframe tbody tr th:only-of-type {\n",
       "        vertical-align: middle;\n",
       "    }\n",
       "\n",
       "    .dataframe tbody tr th {\n",
       "        vertical-align: top;\n",
       "    }\n",
       "\n",
       "    .dataframe thead th {\n",
       "        text-align: right;\n",
       "    }\n",
       "</style>\n",
       "<table border=\"1\" class=\"dataframe\">\n",
       "  <thead>\n",
       "    <tr style=\"text-align: right;\">\n",
       "      <th></th>\n",
       "      <th>OBJECTID</th>\n",
       "      <th>NAME</th>\n",
       "      <th>OWNER</th>\n",
       "      <th>ID</th>\n",
       "      <th>STATUS</th>\n",
       "      <th>REGION</th>\n",
       "      <th>LAT_DD</th>\n",
       "      <th>LONG_DD</th>\n",
       "      <th>FAA_ID</th>\n",
       "      <th>geometry</th>\n",
       "    </tr>\n",
       "  </thead>\n",
       "  <tbody>\n",
       "    <tr>\n",
       "      <th>0</th>\n",
       "      <td>1</td>\n",
       "      <td>Adak Apt</td>\n",
       "      <td>DOT&amp;PF Controlled</td>\n",
       "      <td>1.0</td>\n",
       "      <td>Standard</td>\n",
       "      <td>Southcoast</td>\n",
       "      <td>51.877964</td>\n",
       "      <td>-176.646031</td>\n",
       "      <td>ADK</td>\n",
       "      <td>POINT (-1537216.267 472136.932)</td>\n",
       "    </tr>\n",
       "    <tr>\n",
       "      <th>1</th>\n",
       "      <td>2</td>\n",
       "      <td>Atka Apt</td>\n",
       "      <td>DOT&amp;PF Controlled</td>\n",
       "      <td>2.0</td>\n",
       "      <td>Standard</td>\n",
       "      <td>Southcoast</td>\n",
       "      <td>52.220586</td>\n",
       "      <td>-174.206183</td>\n",
       "      <td>AKA</td>\n",
       "      <td>POINT (-1365699.974 454797.756)</td>\n",
       "    </tr>\n",
       "    <tr>\n",
       "      <th>2</th>\n",
       "      <td>5</td>\n",
       "      <td>Unalaska / Dutch Harbor Apt</td>\n",
       "      <td>DOT&amp;PF Controlled</td>\n",
       "      <td>5.0</td>\n",
       "      <td>Standard</td>\n",
       "      <td>Southcoast</td>\n",
       "      <td>53.900139</td>\n",
       "      <td>-166.543500</td>\n",
       "      <td>DUT</td>\n",
       "      <td>POINT (-820915.308 509535.633)</td>\n",
       "    </tr>\n",
       "    <tr>\n",
       "      <th>3</th>\n",
       "      <td>6</td>\n",
       "      <td>Saint Paul Island Apt</td>\n",
       "      <td>DOT&amp;PF Controlled</td>\n",
       "      <td>6.0</td>\n",
       "      <td>Standard</td>\n",
       "      <td>Southcoast</td>\n",
       "      <td>57.166294</td>\n",
       "      <td>-170.222553</td>\n",
       "      <td>SNP</td>\n",
       "      <td>POINT (-969444.895 914620.508)</td>\n",
       "    </tr>\n",
       "    <tr>\n",
       "      <th>4</th>\n",
       "      <td>7</td>\n",
       "      <td>Saint George Apt</td>\n",
       "      <td>DOT&amp;PF Controlled</td>\n",
       "      <td>7.0</td>\n",
       "      <td>Standard</td>\n",
       "      <td>Southcoast</td>\n",
       "      <td>56.577353</td>\n",
       "      <td>-169.663736</td>\n",
       "      <td>PBV</td>\n",
       "      <td>POINT (-952041.166 842699.145)</td>\n",
       "    </tr>\n",
       "    <tr>\n",
       "      <th>...</th>\n",
       "      <td>...</td>\n",
       "      <td>...</td>\n",
       "      <td>...</td>\n",
       "      <td>...</td>\n",
       "      <td>...</td>\n",
       "      <td>...</td>\n",
       "      <td>...</td>\n",
       "      <td>...</td>\n",
       "      <td>...</td>\n",
       "      <td>...</td>\n",
       "    </tr>\n",
       "    <tr>\n",
       "      <th>289</th>\n",
       "      <td>296</td>\n",
       "      <td>Coffman Cove SPB</td>\n",
       "      <td>DOT&amp;PF Controlled</td>\n",
       "      <td>232.0</td>\n",
       "      <td>Sea Plane Base</td>\n",
       "      <td>Southcoast</td>\n",
       "      <td>56.014867</td>\n",
       "      <td>-132.833891</td>\n",
       "      <td>KCC</td>\n",
       "      <td>POINT (1296264.665 875508.837)</td>\n",
       "    </tr>\n",
       "    <tr>\n",
       "      <th>290</th>\n",
       "      <td>297</td>\n",
       "      <td>Metlakatla SPB</td>\n",
       "      <td>DOT&amp;PF Controlled</td>\n",
       "      <td>239.0</td>\n",
       "      <td>Sea Plane Base</td>\n",
       "      <td>Southcoast</td>\n",
       "      <td>55.130754</td>\n",
       "      <td>-131.574266</td>\n",
       "      <td>MTM</td>\n",
       "      <td>POINT (1403173.580 807860.681)</td>\n",
       "    </tr>\n",
       "    <tr>\n",
       "      <th>291</th>\n",
       "      <td>299</td>\n",
       "      <td>Kodiak Lilly Lake SPB</td>\n",
       "      <td>Other Government</td>\n",
       "      <td>0.0</td>\n",
       "      <td>Sea Plane Base</td>\n",
       "      <td>Southcoast</td>\n",
       "      <td>57.803666</td>\n",
       "      <td>-152.379188</td>\n",
       "      <td>9Z3</td>\n",
       "      <td>POINT (96081.748 867965.213)</td>\n",
       "    </tr>\n",
       "    <tr>\n",
       "      <th>292</th>\n",
       "      <td>300</td>\n",
       "      <td>Kodiak Trident Basin SPB</td>\n",
       "      <td>Other Government</td>\n",
       "      <td>0.0</td>\n",
       "      <td>Sea Plane Base</td>\n",
       "      <td>Southcoast</td>\n",
       "      <td>57.778078</td>\n",
       "      <td>-152.397439</td>\n",
       "      <td>T44</td>\n",
       "      <td>POINT (95069.008 865081.797)</td>\n",
       "    </tr>\n",
       "    <tr>\n",
       "      <th>293</th>\n",
       "      <td>301</td>\n",
       "      <td>Skagway SPB</td>\n",
       "      <td>Other Government</td>\n",
       "      <td>285.0</td>\n",
       "      <td>Sea Plane Base</td>\n",
       "      <td>Southcoast</td>\n",
       "      <td>59.449241</td>\n",
       "      <td>-135.321056</td>\n",
       "      <td>7K2</td>\n",
       "      <td>POINT (1041807.023 1198186.947)</td>\n",
       "    </tr>\n",
       "  </tbody>\n",
       "</table>\n",
       "<p>294 rows × 10 columns</p>\n",
       "</div>"
      ],
      "text/plain": [
       "     OBJECTID                         NAME              OWNER     ID  \\\n",
       "0           1                     Adak Apt  DOT&PF Controlled    1.0   \n",
       "1           2                     Atka Apt  DOT&PF Controlled    2.0   \n",
       "2           5  Unalaska / Dutch Harbor Apt  DOT&PF Controlled    5.0   \n",
       "3           6        Saint Paul Island Apt  DOT&PF Controlled    6.0   \n",
       "4           7             Saint George Apt  DOT&PF Controlled    7.0   \n",
       "..        ...                          ...                ...    ...   \n",
       "289       296             Coffman Cove SPB  DOT&PF Controlled  232.0   \n",
       "290       297               Metlakatla SPB  DOT&PF Controlled  239.0   \n",
       "291       299        Kodiak Lilly Lake SPB   Other Government    0.0   \n",
       "292       300     Kodiak Trident Basin SPB   Other Government    0.0   \n",
       "293       301                  Skagway SPB   Other Government  285.0   \n",
       "\n",
       "             STATUS      REGION     LAT_DD     LONG_DD FAA_ID  \\\n",
       "0          Standard  Southcoast  51.877964 -176.646031    ADK   \n",
       "1          Standard  Southcoast  52.220586 -174.206183    AKA   \n",
       "2          Standard  Southcoast  53.900139 -166.543500    DUT   \n",
       "3          Standard  Southcoast  57.166294 -170.222553    SNP   \n",
       "4          Standard  Southcoast  56.577353 -169.663736    PBV   \n",
       "..              ...         ...        ...         ...    ...   \n",
       "289  Sea Plane Base  Southcoast  56.014867 -132.833891    KCC   \n",
       "290  Sea Plane Base  Southcoast  55.130754 -131.574266    MTM   \n",
       "291  Sea Plane Base  Southcoast  57.803666 -152.379188    9Z3   \n",
       "292  Sea Plane Base  Southcoast  57.778078 -152.397439    T44   \n",
       "293  Sea Plane Base  Southcoast  59.449241 -135.321056    7K2   \n",
       "\n",
       "                            geometry  \n",
       "0    POINT (-1537216.267 472136.932)  \n",
       "1    POINT (-1365699.974 454797.756)  \n",
       "2     POINT (-820915.308 509535.633)  \n",
       "3     POINT (-969444.895 914620.508)  \n",
       "4     POINT (-952041.166 842699.145)  \n",
       "..                               ...  \n",
       "289   POINT (1296264.665 875508.837)  \n",
       "290   POINT (1403173.580 807860.681)  \n",
       "291     POINT (96081.748 867965.213)  \n",
       "292     POINT (95069.008 865081.797)  \n",
       "293  POINT (1041807.023 1198186.947)  \n",
       "\n",
       "[294 rows x 10 columns]"
      ]
     },
     "execution_count": 1,
     "metadata": {},
     "output_type": "execute_result"
    }
   ],
   "source": [
    "import os\n",
    "import geopandas\n",
    "data = os.path.join(os.getcwd(), 'data', 'Public_Airports_March2018.shp')\n",
    "gdf = geopandas.read_file(data)\n",
    "gdf"
   ]
  },
  {
   "cell_type": "code",
   "execution_count": 2,
   "metadata": {},
   "outputs": [
    {
     "data": {
      "text/plain": [
       "<AxesSubplot:>"
      ]
     },
     "execution_count": 2,
     "metadata": {},
     "output_type": "execute_result"
    },
    {
     "data": {
      "image/png": "[encoded data removed]",
      "text/plain": [
       "<Figure size 432x288 with 1 Axes>"
      ]
     },
     "metadata": {
      "needs_background": "light"
     },
     "output_type": "display_data"
    }
   ],
   "source": [
    "%matplotlib inline\n",
    "gdf.plot()"
   ]
  },
  {
   "cell_type": "code",
   "execution_count": 3,
   "metadata": {},
   "outputs": [
    {
     "data": {
      "text/plain": [
       "<Projected CRS: EPSG:3338>\n",
       "Name: NAD83 / Alaska Albers\n",
       "Axis Info [cartesian]:\n",
       "- X[east]: Easting (metre)\n",
       "- Y[north]: Northing (metre)\n",
       "Area of Use:\n",
       "- name: United States (USA) - Alaska.\n",
       "- bounds: (172.42, 51.3, -129.99, 71.4)\n",
       "Coordinate Operation:\n",
       "- name: Alaska Albers (meters)\n",
       "- method: Albers Equal Area\n",
       "Datum: North American Datum 1983\n",
       "- Ellipsoid: GRS 1980\n",
       "- Prime Meridian: Greenwich"
      ]
     },
     "execution_count": 3,
     "metadata": {},
     "output_type": "execute_result"
    }
   ],
   "source": [
    "gdf.crs"
   ]
  },
  {
   "cell_type": "markdown",
   "metadata": {},
   "source": [
    "## Generate Alpha Shape\n",
    "The alpha shape will be generated in the coordinate frame the geodataframe is in.  In this example, we will project into an Albers Equal Area projection, construct our alpha shape in that coordinate system, and then convert back to the source projection."
   ]
  },
  {
   "cell_type": "markdown",
   "metadata": {},
   "source": [
    "### Project to Albers Equal Area Spatial Reference"
   ]
  },
  {
   "cell_type": "code",
   "execution_count": 4,
   "metadata": {},
   "outputs": [
    {
     "data": {
      "text/plain": [
       "<AxesSubplot:>"
      ]
     },
     "execution_count": 4,
     "metadata": {},
     "output_type": "execute_result"
    },
    {
     "data": {
      "image/png": "[encoded data removed]",
      "text/plain": [
       "<Figure size 432x288 with 1 Axes>"
      ]
     },
     "metadata": {
      "needs_background": "light"
     },
     "output_type": "display_data"
    }
   ],
   "source": [
    "import cartopy.crs as ccrs\n",
    "gdf_proj = gdf.to_crs(ccrs.AlbersEqualArea().proj4_init)\n",
    "gdf_proj.plot()"
   ]
  },
  {
   "cell_type": "markdown",
   "metadata": {},
   "source": [
    "### Determine the Alpha Shape"
   ]
  },
  {
   "cell_type": "code",
   "execution_count": 5,
   "metadata": {},
   "outputs": [
    {
     "data": {
      "text/plain": [
       "<AxesSubplot:>"
      ]
     },
     "execution_count": 5,
     "metadata": {},
     "output_type": "execute_result"
    },
    {
     "data": {
      "image/png": "[encoded data removed]",
      "text/plain": [
       "<Figure size 432x288 with 1 Axes>"
      ]
     },
     "metadata": {
      "needs_background": "light"
     },
     "output_type": "display_data"
    }
   ],
   "source": [
    "import sys\n",
    "sys.path.insert(0, os.path.dirname(os.getcwd()))\n",
    "import alphashape\n",
    "alpha_shape = alphashape.alphashape(gdf_proj)\n",
    "alpha_shape.plot()"
   ]
  },
  {
   "cell_type": "markdown",
   "metadata": {},
   "source": [
    "### Plotting the Alpha Shape over the Data Points\n",
    "#### Plate Carree Projection"
   ]
  },
  {
   "cell_type": "code",
   "execution_count": 6,
   "metadata": {},
   "outputs": [
    {
     "data": {
      "image/png": "[encoded data removed]",
      "text/plain": [
       "<Figure size 432x288 with 1 Axes>"
      ]
     },
     "metadata": {
      "needs_background": "light"
     },
     "output_type": "display_data"
    }
   ],
   "source": [
    "import matplotlib.pyplot as plt\n",
    "ax = plt.axes(projection=ccrs.PlateCarree())\n",
    "ax.scatter([p.x for p in gdf_proj['geometry']],\n",
    "           [p.y for p in gdf_proj['geometry']],\n",
    "           transform=ccrs.AlbersEqualArea())\n",
    "ax.add_geometries(\n",
    "    alpha_shape['geometry'],\n",
    "    crs=ccrs.AlbersEqualArea(), alpha=.2)\n",
    "plt.show()"
   ]
  },
  {
   "cell_type": "markdown",
   "metadata": {},
   "source": [
    "#### Robinson Projection"
   ]
  },
  {
   "cell_type": "code",
   "execution_count": 7,
   "metadata": {},
   "outputs": [
    {
     "data": {
      "image/png": "[encoded data removed]",
      "text/plain": [
       "<Figure size 432x288 with 1 Axes>"
      ]
     },
     "metadata": {
      "needs_background": "light"
     },
     "output_type": "display_data"
    }
   ],
   "source": [
    "import matplotlib.pyplot as plt\n",
    "ax = plt.axes(projection=ccrs.Robinson())\n",
    "ax.scatter([p.x for p in gdf_proj['geometry']],\n",
    "           [p.y for p in gdf_proj['geometry']],\n",
    "           transform=ccrs.AlbersEqualArea())\n",
    "ax.add_geometries(\n",
    "    alpha_shape['geometry'],\n",
    "    crs=ccrs.AlbersEqualArea(), alpha=.2)\n",
    "plt.show()"
   ]
  },
  {
   "cell_type": "markdown",
   "metadata": {},
   "source": [
    "### 3D Alpha Shapes with Geopandas"
   ]
  },
  {
   "cell_type": "code",
   "execution_count": null,
   "metadata": {},
   "outputs": [],
   "source": [
    "import shapefile\n",
    "import pye57\n",
    "e57 = pye57.E57(\"data/Trimble_StSulpice-Cloud-50mm.e57\")\n",
    "data = e57.read_scan_raw(0)\n",
    "with shapefile.Writer(\"data/Trimble_StSulpice-Cloud-50mm\") as w:\n",
    "    w.field('name', 'C')\n",
    "    w.multipointz(list(zip(data[\"cartesianX\"], data[\"cartesianY\"], data[\"cartesianZ\"])))\n",
    "    w.record(name=\"pointcloud\")"
   ]
  },
  {
   "cell_type": "code",
   "execution_count": 9,
   "metadata": {},
   "outputs": [
    {
     "ename": "DriverError",
     "evalue": ".shx file is unreadable, or corrupt.",
     "output_type": "error",
     "traceback": [
      "\u001b[0;31m---------------------------------------------------------------------------\u001b[0m",
      "\u001b[0;31mCPLE_OpenFailedError\u001b[0m                      Traceback (most recent call last)",
      "\u001b[0;32mfiona/_shim.pyx\u001b[0m in \u001b[0;36mfiona._shim.gdal_open_vector\u001b[0;34m()\u001b[0m\n",
      "\u001b[0;32mfiona/_err.pyx\u001b[0m in \u001b[0;36mfiona._err.exc_wrap_pointer\u001b[0;34m()\u001b[0m\n",
      "\u001b[0;31mCPLE_OpenFailedError\u001b[0m: .shx file is unreadable, or corrupt.",
      "\nDuring handling of the above exception, another exception occurred:\n",
      "\u001b[0;31mDriverError\u001b[0m                               Traceback (most recent call last)",
      "\u001b[0;32m<ipython-input-9-ad3d4b0bd8a5>\u001b[0m in \u001b[0;36m<module>\u001b[0;34m\u001b[0m\n\u001b[1;32m      2\u001b[0m \u001b[0;32mimport\u001b[0m \u001b[0mgeopandas\u001b[0m\u001b[0;34m\u001b[0m\u001b[0;34m\u001b[0m\u001b[0m\n\u001b[1;32m      3\u001b[0m \u001b[0mdata\u001b[0m \u001b[0;34m=\u001b[0m \u001b[0mos\u001b[0m\u001b[0;34m.\u001b[0m\u001b[0mpath\u001b[0m\u001b[0;34m.\u001b[0m\u001b[0mjoin\u001b[0m\u001b[0;34m(\u001b[0m\u001b[0mos\u001b[0m\u001b[0;34m.\u001b[0m\u001b[0mgetcwd\u001b[0m\u001b[0;34m(\u001b[0m\u001b[0;34m)\u001b[0m\u001b[0;34m,\u001b[0m \u001b[0;34m'data'\u001b[0m\u001b[0;34m,\u001b[0m \u001b[0;34m'Trimble_StSulpice-Cloud-50mm.shp'\u001b[0m\u001b[0;34m)\u001b[0m\u001b[0;34m\u001b[0m\u001b[0;34m\u001b[0m\u001b[0m\n\u001b[0;32m----> 4\u001b[0;31m \u001b[0mgdf\u001b[0m \u001b[0;34m=\u001b[0m \u001b[0mgeopandas\u001b[0m\u001b[0;34m.\u001b[0m\u001b[0mread_file\u001b[0m\u001b[0;34m(\u001b[0m\u001b[0mdata\u001b[0m\u001b[0;34m)\u001b[0m\u001b[0;34m\u001b[0m\u001b[0;34m\u001b[0m\u001b[0m\n\u001b[0m\u001b[1;32m      5\u001b[0m \u001b[0mgdf\u001b[0m\u001b[0;34m\u001b[0m\u001b[0;34m\u001b[0m\u001b[0m\n",
      "\u001b[0;32m/local/bellockk/Development/alphashape/local/lib/python3.9/site-packages/geopandas/io/file.py\u001b[0m in \u001b[0;36m_read_file\u001b[0;34m(filename, bbox, mask, rows, **kwargs)\u001b[0m\n\u001b[1;32m     94\u001b[0m \u001b[0;34m\u001b[0m\u001b[0m\n\u001b[1;32m     95\u001b[0m     \u001b[0;32mwith\u001b[0m \u001b[0mfiona_env\u001b[0m\u001b[0;34m(\u001b[0m\u001b[0;34m)\u001b[0m\u001b[0;34m:\u001b[0m\u001b[0;34m\u001b[0m\u001b[0;34m\u001b[0m\u001b[0m\n\u001b[0;32m---> 96\u001b[0;31m         \u001b[0;32mwith\u001b[0m \u001b[0mreader\u001b[0m\u001b[0;34m(\u001b[0m\u001b[0mpath_or_bytes\u001b[0m\u001b[0;34m,\u001b[0m \u001b[0;34m**\u001b[0m\u001b[0mkwargs\u001b[0m\u001b[0;34m)\u001b[0m \u001b[0;32mas\u001b[0m \u001b[0mfeatures\u001b[0m\u001b[0;34m:\u001b[0m\u001b[0;34m\u001b[0m\u001b[0;34m\u001b[0m\u001b[0m\n\u001b[0m\u001b[1;32m     97\u001b[0m \u001b[0;34m\u001b[0m\u001b[0m\n\u001b[1;32m     98\u001b[0m             \u001b[0;31m# In a future Fiona release the crs attribute of features will\u001b[0m\u001b[0;34m\u001b[0m\u001b[0;34m\u001b[0m\u001b[0;34m\u001b[0m\u001b[0m\n",
      "\u001b[0;32m/local/bellockk/Development/alphashape/local/lib64/python3.9/site-packages/fiona/env.py\u001b[0m in \u001b[0;36mwrapper\u001b[0;34m(*args, **kwargs)\u001b[0m\n\u001b[1;32m    398\u001b[0m     \u001b[0;32mdef\u001b[0m \u001b[0mwrapper\u001b[0m\u001b[0;34m(\u001b[0m\u001b[0;34m*\u001b[0m\u001b[0margs\u001b[0m\u001b[0;34m,\u001b[0m \u001b[0;34m**\u001b[0m\u001b[0mkwargs\u001b[0m\u001b[0;34m)\u001b[0m\u001b[0;34m:\u001b[0m\u001b[0;34m\u001b[0m\u001b[0;34m\u001b[0m\u001b[0m\n\u001b[1;32m    399\u001b[0m         \u001b[0;32mif\u001b[0m \u001b[0mlocal\u001b[0m\u001b[0;34m.\u001b[0m\u001b[0m_env\u001b[0m\u001b[0;34m:\u001b[0m\u001b[0;34m\u001b[0m\u001b[0;34m\u001b[0m\u001b[0m\n\u001b[0;32m--> 400\u001b[0;31m             \u001b[0;32mreturn\u001b[0m \u001b[0mf\u001b[0m\u001b[0;34m(\u001b[0m\u001b[0;34m*\u001b[0m\u001b[0margs\u001b[0m\u001b[0;34m,\u001b[0m \u001b[0;34m**\u001b[0m\u001b[0mkwargs\u001b[0m\u001b[0;34m)\u001b[0m\u001b[0;34m\u001b[0m\u001b[0;34m\u001b[0m\u001b[0m\n\u001b[0m\u001b[1;32m    401\u001b[0m         \u001b[0;32melse\u001b[0m\u001b[0;34m:\u001b[0m\u001b[0;34m\u001b[0m\u001b[0;34m\u001b[0m\u001b[0m\n\u001b[1;32m    402\u001b[0m             \u001b[0;32mif\u001b[0m \u001b[0misinstance\u001b[0m\u001b[0;34m(\u001b[0m\u001b[0margs\u001b[0m\u001b[0;34m[\u001b[0m\u001b[0;36m0\u001b[0m\u001b[0;34m]\u001b[0m\u001b[0;34m,\u001b[0m \u001b[0mstr\u001b[0m\u001b[0;34m)\u001b[0m\u001b[0;34m:\u001b[0m\u001b[0;34m\u001b[0m\u001b[0;34m\u001b[0m\u001b[0m\n",
      "\u001b[0;32m/local/bellockk/Development/alphashape/local/lib64/python3.9/site-packages/fiona/__init__.py\u001b[0m in \u001b[0;36mopen\u001b[0;34m(fp, mode, driver, schema, crs, encoding, layer, vfs, enabled_drivers, crs_wkt, **kwargs)\u001b[0m\n\u001b[1;32m    254\u001b[0m \u001b[0;34m\u001b[0m\u001b[0m\n\u001b[1;32m    255\u001b[0m         \u001b[0;32mif\u001b[0m \u001b[0mmode\u001b[0m \u001b[0;32min\u001b[0m \u001b[0;34m(\u001b[0m\u001b[0;34m'a'\u001b[0m\u001b[0;34m,\u001b[0m \u001b[0;34m'r'\u001b[0m\u001b[0;34m)\u001b[0m\u001b[0;34m:\u001b[0m\u001b[0;34m\u001b[0m\u001b[0;34m\u001b[0m\u001b[0m\n\u001b[0;32m--> 256\u001b[0;31m             c = Collection(path, mode, driver=driver, encoding=encoding,\n\u001b[0m\u001b[1;32m    257\u001b[0m                            layer=layer, enabled_drivers=enabled_drivers, **kwargs)\n\u001b[1;32m    258\u001b[0m         \u001b[0;32melif\u001b[0m \u001b[0mmode\u001b[0m \u001b[0;34m==\u001b[0m \u001b[0;34m'w'\u001b[0m\u001b[0;34m:\u001b[0m\u001b[0;34m\u001b[0m\u001b[0;34m\u001b[0m\u001b[0m\n",
      "\u001b[0;32m/local/bellockk/Development/alphashape/local/lib64/python3.9/site-packages/fiona/collection.py\u001b[0m in \u001b[0;36m__init__\u001b[0;34m(self, path, mode, driver, schema, crs, encoding, layer, vsi, archive, enabled_drivers, crs_wkt, ignore_fields, ignore_geometry, **kwargs)\u001b[0m\n\u001b[1;32m    160\u001b[0m             \u001b[0;32mif\u001b[0m \u001b[0mself\u001b[0m\u001b[0;34m.\u001b[0m\u001b[0mmode\u001b[0m \u001b[0;34m==\u001b[0m \u001b[0;34m'r'\u001b[0m\u001b[0;34m:\u001b[0m\u001b[0;34m\u001b[0m\u001b[0;34m\u001b[0m\u001b[0m\n\u001b[1;32m    161\u001b[0m                 \u001b[0mself\u001b[0m\u001b[0;34m.\u001b[0m\u001b[0msession\u001b[0m \u001b[0;34m=\u001b[0m \u001b[0mSession\u001b[0m\u001b[0;34m(\u001b[0m\u001b[0;34m)\u001b[0m\u001b[0;34m\u001b[0m\u001b[0;34m\u001b[0m\u001b[0m\n\u001b[0;32m--> 162\u001b[0;31m                 \u001b[0mself\u001b[0m\u001b[0;34m.\u001b[0m\u001b[0msession\u001b[0m\u001b[0;34m.\u001b[0m\u001b[0mstart\u001b[0m\u001b[0;34m(\u001b[0m\u001b[0mself\u001b[0m\u001b[0;34m,\u001b[0m \u001b[0;34m**\u001b[0m\u001b[0mkwargs\u001b[0m\u001b[0;34m)\u001b[0m\u001b[0;34m\u001b[0m\u001b[0;34m\u001b[0m\u001b[0m\n\u001b[0m\u001b[1;32m    163\u001b[0m             \u001b[0;32melif\u001b[0m \u001b[0mself\u001b[0m\u001b[0;34m.\u001b[0m\u001b[0mmode\u001b[0m \u001b[0;32min\u001b[0m \u001b[0;34m(\u001b[0m\u001b[0;34m'a'\u001b[0m\u001b[0;34m,\u001b[0m \u001b[0;34m'w'\u001b[0m\u001b[0;34m)\u001b[0m\u001b[0;34m:\u001b[0m\u001b[0;34m\u001b[0m\u001b[0;34m\u001b[0m\u001b[0m\n\u001b[1;32m    164\u001b[0m                 \u001b[0mself\u001b[0m\u001b[0;34m.\u001b[0m\u001b[0msession\u001b[0m \u001b[0;34m=\u001b[0m \u001b[0mWritingSession\u001b[0m\u001b[0;34m(\u001b[0m\u001b[0;34m)\u001b[0m\u001b[0;34m\u001b[0m\u001b[0;34m\u001b[0m\u001b[0m\n",
      "\u001b[0;32mfiona/ogrext.pyx\u001b[0m in \u001b[0;36mfiona.ogrext.Session.start\u001b[0;34m()\u001b[0m\n",
      "\u001b[0;32mfiona/_shim.pyx\u001b[0m in \u001b[0;36mfiona._shim.gdal_open_vector\u001b[0;34m()\u001b[0m\n",
      "\u001b[0;31mDriverError\u001b[0m: .shx file is unreadable, or corrupt."
     ]
    }
   ],
   "source": [
    "import os\n",
    "import geopandas\n",
    "data = os.path.join(os.getcwd(), 'data', 'Trimble_StSulpice-Cloud-50mm.shp')\n",
    "gdf = geopandas.read_file(data)\n",
    "gdf"
   ]
  },
  {
   "cell_type": "code",
   "execution_count": null,
   "metadata": {},
   "outputs": [],
   "source": [
    "from alphashape import alphashape\n",
    "alphashape([point.coords[0] for point in gdf['geometry'][0]], 0.7).show()"
   ]
  }
 ],
 "metadata": {
  "kernelspec": {
   "display_name": "Python 3",
   "language": "python",
   "name": "python3"
  },
  "language_info": {
   "codemirror_mode": {
    "name": "ipython",
    "version": 3
   },
   "file_extension": ".py",
   "mimetype": "text/x-python",
   "name": "python",
   "nbconvert_exporter": "python",
   "pygments_lexer": "ipython3",
   "version": "3.9.2"
  }
 },
 "nbformat": 4,
 "nbformat_minor": 4
}
